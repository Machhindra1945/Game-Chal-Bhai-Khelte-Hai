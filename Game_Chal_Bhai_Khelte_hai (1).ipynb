{
 "cells": [
  {
   "cell_type": "markdown",
   "id": "ba89b3d4-a4ed-461e-9e06-924d15b28242",
   "metadata": {},
   "source": [
    "# Game Name: Chal Bhia Khelte Hai\n",
    "****By: Machhindra Shimpi****          \n",
    "**linkdin:https://www.linkedin.com/in/machhindrashimpi/**        \n",
    "**https://github.com/Machhindra1945/Game-Chal-Bhai-Khelte-Hai**"
   ]
  },
  {
   "cell_type": "code",
   "execution_count": 49,
   "id": "37f63583-d3f9-4daa-95a0-16f2a91c3268",
   "metadata": {},
   "outputs": [
    {
     "data": {
      "text/html": [
       "<span style='font-size: 50px;'>____________👨‍🤝‍👨____________</span>"
      ],
      "text/plain": [
       "<IPython.core.display.HTML object>"
      ]
     },
     "metadata": {},
     "output_type": "display_data"
    },
    {
     "name": "stdout",
     "output_type": "stream",
     "text": [
      "  _______        __  ___  __        _   __ ____       ____        __ __     _ \n",
      " / ___/ /  ___ _/ / / _ )/ /  ___ _(_) / //_/ /  ___ / / /____   / // /__ _(_)\n",
      "/ /__/ _ \\/ _ `/ / / _  / _ \\/ _ `/ / / ,< / _ \\/ -_) / __/ -_) / _  / _ `/ / \n",
      "\\___/_//_/\\_,_/_/ /____/_//_/\\_,_/_/ /_/|_/_//_/\\__/_/\\__/\\__/ /_//_/\\_,_/_/  \n",
      "                                                                              \n",
      "\n",
      "😎 Get ready for some exciting fun and challenges! 😎\n",
      "🤔 Put on your thinking caps, and let's dive into the game! 🚀\n",
      "🎮 Best of luck, Bhai! May the fun begin! 🎉\n",
      "----------------------------------\n",
      "Choose Game Level: 1 : Easy | 2 : Moderate | 3 : Hard\n"
     ]
    },
    {
     "name": "stdin",
     "output_type": "stream",
     "text": [
      "Enter Your Choice:  1\n"
     ]
    },
    {
     "name": "stdout",
     "output_type": "stream",
     "text": [
      "You Choose Easy Level\n",
      "✨ Guess Number between 1 to 10 ✨\n",
      "✨ You have 3 Attempts To Win ✨\n"
     ]
    },
    {
     "name": "stdin",
     "output_type": "stream",
     "text": [
      "Bhai Jan, mere dimaag ki batti jal gayi! Tuhmi Kuch Socho 🤔:  5\n"
     ]
    },
    {
     "name": "stdout",
     "output_type": "stream",
     "text": [
      "\n",
      "Bohot Jada hai bhai 🤦\n",
      "\n"
     ]
    },
    {
     "name": "stdin",
     "output_type": "stream",
     "text": [
      "Bhai Jan, mere dimaag ki batti jal gayi! Tuhmi Kuch Socho 🤔:  4\n"
     ]
    },
    {
     "name": "stdout",
     "output_type": "stream",
     "text": [
      "\n",
      "Bohot Jada hai bhai 🤦\n",
      "\n"
     ]
    },
    {
     "name": "stdin",
     "output_type": "stream",
     "text": [
      "Bhai Jan, mere dimaag ki batti jal gayi! Tuhmi Kuch Socho 🤔:  3\n"
     ]
    },
    {
     "name": "stdout",
     "output_type": "stream",
     "text": [
      "\n",
      "Bohot Jada hai bhai 🤦\n",
      "\n",
      "Your Attempts is Over, You lost\n"
     ]
    }
   ],
   "source": [
    "# Game Name: Chal Bhai Khelte Hai\n",
    "\n",
    "# Important Library\n",
    "import random       # Generate Random number\n",
    "import time         # To measure the time taken for user input\n",
    "from IPython.display import display, HTML   #printing Game name in big letters\n",
    "import pyfiglet    # printing Emojis and Game name in big size\n",
    "from colorama import Fore, init\n",
    "\n",
    "\n",
    "# Logic Function\n",
    "def Start_Game():\n",
    "    init(autoreset=True)\n",
    "    secret_number = random.randint(1, 100)\n",
    "    guesses = 0\n",
    "    A = 0\n",
    "# Storing emojis in list\n",
    "    emojis = [\"\\U0001F3C3\", \"\\U0001F973\",\"\\U0001F3C6\", \"\\U0001F60E\",\"\\U0001F926\",\"\\U0001F480\",\"\\U0001F92F\",'____________👨‍🤝‍👨____________','🙇']\n",
    "\n",
    " # Role of Guessing number\n",
    "    # Welcome greeting for the game \"Chal Bhai Khelte Hai\"\n",
    "    display(HTML(f\"<span style='font-size: 50px;'>{emojis[7]}</span>\"))\n",
    "    game_name = pyfiglet.figlet_format(\"Chal Bhai Khelte Hai\",font=\"small_slant\")\n",
    "    print(Fore.BLACK + game_name)\n",
    "    print(\"😎 Get ready for some exciting fun and challenges! 😎\")\n",
    "    print(\"🤔 Put on your thinking caps, and let's dive into the game! 🚀\")\n",
    "    print(\"🎮 Best of luck, Bhai! May the fun begin! 🎉\")\n",
    "    print('----------------------------------')\n",
    "\n",
    "\n",
    "# Taking user choice for game level\n",
    "    while True:\n",
    "        print(\"Choose Game Level: 1 : Easy | 2 : Moderate | 3 : Hard\")\n",
    "        try:\n",
    "            Choice = int(input(\"Enter Your Choice: \"))\n",
    "            if Choice == 1:\n",
    "                print(\"You Choose Easy Level\")\n",
    "                print(\"✨ Guess Number between 1 to 10 ✨\")\n",
    "                print(\"✨ You have 3 Attempts To Win ✨\")\n",
    "                secret_number = random.randint(1, 10)\n",
    "                Attempts = 3\n",
    "                break\n",
    "                \n",
    "            elif Choice == 2:\n",
    "                print(\"You Choose Moderate Level\")\n",
    "                print(\"✨ Guess Number between 1 to 50 ✨\")\n",
    "                print(\"✨ You have 5 Attempts To Win ✨\")\n",
    "                secret_number = random.randint(1, 50)\n",
    "                Attempts = 5\n",
    "                break\n",
    "                \n",
    "            elif Choice == 3:\n",
    "                print(\"You Choose Hard Level\")\n",
    "                print(\"✨ Guess Number between 1 to 100 ✨\")\n",
    "                print(\"✨ You have 7 Attempts To Win ✨\")\n",
    "                secret_number = random.randint(1, 100)\n",
    "                Attempts = 7\n",
    "                break\n",
    "                \n",
    "            else:\n",
    "                print(\"Invalid input! Please choose between 1, 2, and 3.\")\n",
    "        except ValueError:\n",
    "            print(\"Invalid input! Please enter a number.\")\n",
    "\n",
    "# Guessing logic\n",
    "\n",
    "    # While Loop to continue running code until win\n",
    "    while Attempts > A:\n",
    "        # Record the start time for the first input\n",
    "        start_time = time.time()\n",
    "        \n",
    "        guess = int(input(\"Bhai Jan, mere dimaag ki batti jal gayi! Tuhmi Kuch Socho \\U0001F914: \"))\n",
    "        # Measure the time taken for this input\n",
    "        time_taken = time.time() - start_time\n",
    "        \n",
    "        # Check if the user took more than 5 seconds to input the guess\n",
    "        if time_taken > 5:\n",
    "            print(\"Abe Jaldi kar \\U0001F3C3, Panvel Nikalna hai...\\U0001F602\")\n",
    "            display(HTML(f\"<span style='font-size: 50px;'>{emojis[0]}</span>\"))\n",
    "        \n",
    "        print('')\n",
    "        guesses += 1\n",
    "        if guess < 1 or guess > 100:\n",
    "            print(\"Baskar 7V fail \\U0001F926 \\u261D\\uFE0F likha hai 1 se 100 bich kahi batan dabana hai\")\n",
    "            display(HTML(f\"<span style='font-size: 100px;'>{emojis[4]}</span>\"))\n",
    "            print(\"Chalo fir se dabao\")\n",
    "    \n",
    "        elif guess < secret_number:\n",
    "            print(\"Bohot Kam hai bhai \\U0001F926\")\n",
    "            print('')\n",
    "           \n",
    "        elif guess > secret_number:\n",
    "            print(\"Bohot Jada hai bhai \\U0001F926\")\n",
    "            print('')\n",
    "           \n",
    "        else:\n",
    "            if guesses == 1:\n",
    "                print(\"🙏🏻Prabhu Kaha the Aap 🙇🏻‍♂️\")\n",
    "                print(f\"Attempts :{guesses}\")\n",
    "                display(HTML(f\"<span style='font-size: 100px;'>{emojis[9]}</span>\"))\n",
    "            elif guesses <= 4:\n",
    "                print(f\"Wahh kya soch hai re teri \\U0001F44F manna padega \\u2620, Ye le tere liye \\U0001F3C6\")\n",
    "                print(f\"Attempts :{guesses}\") \n",
    "                display(HTML(f\"<span style='font-size: 100px;'>{emojis[2]}</span>\"))\n",
    "            elif guesses > 4 and guesses < 6:                                                   \n",
    "                print(f\"Nahi bhai jan aur Badam khaneki Jarurat hai \\U0001F602\")\n",
    "                print(f\"Attempts :{guesses}\")\n",
    "                display(HTML(f\"<span style='font-size: 100px;'>{emojis[2]}</span>\"))\n",
    "            else:\n",
    "                print(f\"Bohot der kar di bhai jan \\U0001F926 Etani der me to panvel pohoch jate \\U0001F605\")\n",
    "                print(f\"Attempts :{guesses}\")\n",
    "                display(HTML(f\"<span style='font-size: 100px;'>{emojis[2]}</span>\"))\n",
    "            break\n",
    "        A += 1\n",
    "    if secret_number == guess:\n",
    "        pass\n",
    "    else:\n",
    "        print(\"Your Attempts is Over, You lost\")\n",
    "\n",
    "\n",
    "#level()\n",
    "Start_Game()\n"
   ]
  },
  {
   "cell_type": "code",
   "execution_count": 7,
   "id": "e161c782-810b-41f8-bb4e-c22884764460",
   "metadata": {},
   "outputs": [
    {
     "ename": "IndentationError",
     "evalue": "unindent does not match any outer indentation level (<string>, line 31)",
     "output_type": "error",
     "traceback": [
      "\u001b[1;36m  File \u001b[1;32m<string>:31\u001b[1;36m\u001b[0m\n\u001b[1;33m    while True:\u001b[0m\n\u001b[1;37m               ^\u001b[0m\n\u001b[1;31mIndentationError\u001b[0m\u001b[1;31m:\u001b[0m unindent does not match any outer indentation level\n"
     ]
    }
   ],
   "source": [
    "# Game Name: Chal Bhai Khelte Hai\n",
    "\n",
    "# Important Library\n",
    "import random       # Generate Random number\n",
    "import time         # To measure the time taken for user input\n",
    "from IPython.display import display, HTML\n",
    "import pyfiglet\n",
    "from colorama import Fore, init #init function initializes the colorama library.\n",
    "                                #colorama library in Python is used to add colors and styles to terminal text,\n",
    "\n",
    "# Logic Function\n",
    "def check_logic():\n",
    "    init(autoreset=True)\n",
    "    guesses = 0\n",
    " \n",
    "    # Storing emojis in list\n",
    "    emojis = [\"\\U0001F3C3\", \"\\U0001F973\",\"\\U0001F3C6\", \"\\U0001F60E\",\"\\U0001F926\",\"\\U0001F480\",\"\\U0001F92F\",'____________👨‍🤝‍👨____________']\n",
    "\n",
    "    # Role of Guessing number\n",
    "    # Welcome greeting for the game \"Chal Bhai Khelte Hai\"\n",
    "    display(HTML(f\"<span style='font-size: 50px;'>{emojis[7]}</span>\"))\n",
    "    game_name = pyfiglet.figlet_format(\"Chal Bhai Khelte Hai\",font=\"small_slant\")\n",
    "    print(Fore.RED + game_name)\n",
    "    print(\"😎 Get ready for some exciting fun and challenges! 😎\")\n",
    "    print(\"🤔 Put on your thinking caps, and let's dive into the game! 🚀\")\n",
    "    print(\"🎮 Best of luck, Bhai! May the fun begin! 🎉\")\n",
    "    print('----------------------------------')\n",
    "    \n",
    "\n",
    "# Taking user choice for game level\n",
    "   while True:\n",
    "        print(\"Choose Game Level: 1 : Easy | 2 : Moderate | 3 : Hard\")\n",
    "        try:\n",
    "            Choice = int(input(\"Enter Your Choice: \"))\n",
    "            if Choice == 1:\n",
    "                print(\"You Choose Easy Level\")\n",
    "                print(\"✨ Guess Number between 1 to 10 ✨\")\n",
    "                print(\"✨ You have 3 Attempts To Win ✨\")\n",
    "                secret_number = random.randint(1, 10)\n",
    "                Attempts = 3\n",
    "                break\n",
    "                \n",
    "            elif Choice == 2:\n",
    "                print(\"You Choose Moderate Level\")\n",
    "                print(\"✨ Guess Number between 1 to 50 ✨\")\n",
    "                print(\"✨ You have 5 Attempts To Win ✨\")\n",
    "                secret_number = random.randint(1, 50)\n",
    "                Attempts = 5\n",
    "                break\n",
    "                \n",
    "            elif Choice == 3:\n",
    "                print(\"You Choose Hard Level\")\n",
    "                print(\"✨ Guess Number between 1 to 100 ✨\")\n",
    "                print(\"✨ You have 7 Attempts To Win ✨\")\n",
    "                secret_number = random.randint(1, 100)\n",
    "                Attempts = 7\n",
    "                break\n",
    "                \n",
    "            else:\n",
    "                print(\"Invalid input! Please choose between 1, 2, and 3.\")\n",
    "        except ValueError:\n",
    "            print(\"Invalid input! Please enter a number.\")\n",
    "\n",
    "# While Loop to continue running code until win\n",
    "    while True:\n",
    "        # Record the start time for the first input\n",
    "        start_time = time.time()\n",
    "\n",
    "        guess = int(input(\"Bhai Jan, mere dimaag ki batti jal gayi! Tuhmi Kuch Socho \\U0001F914: \"))\n",
    "        # Measure the time taken for this input\n",
    "        time_taken = time.time() - start_time\n",
    "        \n",
    "        # Check if the user took more than 2 seconds to input the guess\n",
    "        if time_taken > 5:\n",
    "            print(\"Abe Jaldi kar \\U0001F3C3, Panvel Nikalna hai...\\U0001F602\")  # Print if the input time is more than 5 seconds\n",
    "            display(HTML(f\"<span style='font-size: 50px;'>{emojis[0]}</span>\"))\n",
    "        \n",
    "        print('')\n",
    "        guesses += 1\n",
    "        if guess < 1 or guess > 100:\n",
    "            print(\"Baskar 7V fail \\U0001F926 \\u261D\\uFE0F likha hai 1 se 100 bich kahi batan dabana hai\")\n",
    "            display(HTML(f\"<span style='font-size: 100px;'>{emojis[4]}</span>\"))\n",
    "            print(\"Chalo fir se dabao\")\n",
    "    \n",
    "        elif guess < secret_number:\n",
    "            print(\"Bohot Kam hai bhai \\U0001F926\")\n",
    "            print('')\n",
    "           \n",
    "        elif guess > secret_number:\n",
    "            print(\"Bohot Jada hai bhai \\U0001F926\")\n",
    "            print('')\n",
    "           \n",
    "        else:\n",
    "            if guesses == 1:\n",
    "                print(\"😎 LEGEND 😎\")\n",
    "                print(f\"Attempts :{guesses}\")\n",
    "                display(HTML(f\"<span style='font-size: 100px;'>{emojis[6]}</span>\"))\n",
    "            elif guesses <= 4:\n",
    "                print(f\"Wahh kya soch hai re teri \\U0001F44F manna padega \\u2620, Ye le tere liye \\U0001F3C6\")\n",
    "                print(f\"Attempts :{guesses}\") \n",
    "                display(HTML(f\"<span style='font-size: 100px;'>{emojis[2]}</span>\"))\n",
    "            elif guesses > 4 and guesses < 6:                                                   \n",
    "                print(f\"Nahi bhai jan aur Badam khaneki Jarurat hai \\U0001F602\")\n",
    "                print(f\"Attempts :{guesses}\")\n",
    "                display(HTML(f\"<span style='font-size: 100px;'>{emojis[2]}</span>\"))\n",
    "            else:\n",
    "                print(f\"Bohot der kar di bhai jan \\U0001F926 Etani der me to panvel pohoch jate \\U0001F605\")\n",
    "                print(f\"Attempts :{guesses}\")\n",
    "                display(HTML(f\"<span style='font-size: 100px;'>{emojis[2]}</span>\"))\n",
    "            break\n",
    "        \n",
    "check_logic()"
   ]
  },
  {
   "cell_type": "code",
   "execution_count": null,
   "id": "fb404ad2-1f1f-4c5f-bacc-35f488679155",
   "metadata": {},
   "outputs": [],
   "source": []
  },
  {
   "cell_type": "code",
   "execution_count": null,
   "id": "b625c5a4-b8e6-45e0-8fe7-e497d17354ab",
   "metadata": {},
   "outputs": [],
   "source": []
  }
 ],
 "metadata": {
  "kernelspec": {
   "display_name": "Python 3 (ipykernel)",
   "language": "python",
   "name": "python3"
  },
  "language_info": {
   "codemirror_mode": {
    "name": "ipython",
    "version": 3
   },
   "file_extension": ".py",
   "mimetype": "text/x-python",
   "name": "python",
   "nbconvert_exporter": "python",
   "pygments_lexer": "ipython3",
   "version": "3.12.4"
  }
 },
 "nbformat": 4,
 "nbformat_minor": 5
}
