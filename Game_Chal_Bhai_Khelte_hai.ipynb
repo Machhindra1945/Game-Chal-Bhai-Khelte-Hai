{
 "cells": [
  {
   "cell_type": "markdown",
   "id": "40766822-96f4-44fa-b45d-c9206deacc04",
   "metadata": {},
   "source": [
    "# Game Name: Chal Bhia Khelte Hai\n",
    "****By: Machhindra Shimpi****          \n",
    "**linkdin:https://www.linkedin.com/in/machhindrashimpi/**"
   ]
  },
  {
   "cell_type": "code",
   "execution_count": 188,
   "id": "37f63583-d3f9-4daa-95a0-16f2a91c3268",
   "metadata": {},
   "outputs": [
    {
     "name": "stdout",
     "output_type": "stream",
     "text": [
      "  _______        __  ___  __        _   __ ____       ____        __ __     _ \n",
      " / ___/ /  ___ _/ / / _ )/ /  ___ _(_) / //_/ /  ___ / / /____   / // /__ _(_)\n",
      "/ /__/ _ \\/ _ `/ / / _  / _ \\/ _ `/ / / ,< / _ \\/ -_) / __/ -_) / _  / _ `/ / \n",
      "\\___/_//_/\\_,_/_/ /____/_//_/\\_,_/_/ /_/|_/_//_/\\__/_/\\__/\\__/ /_//_/\\_,_/_/  \n",
      "                                                                              \n",
      "\n",
      "😎 Get ready for some exciting fun and challenges! 😎\n",
      "🤔 Put on your thinking caps, and let's dive into the game! 🚀\n",
      "🎮 Best of luck, Bhai! May the fun begin! 🎉\n",
      "  ✨ Guess between 1 to 100 ✨  \n",
      "----------------------------------\n"
     ]
    },
    {
     "name": "stdin",
     "output_type": "stream",
     "text": [
      "Bhai Jan, mere dimaag ki batti jal gayi! Tuhmi Kuch Socho 🤔:  55\n"
     ]
    },
    {
     "name": "stdout",
     "output_type": "stream",
     "text": [
      "Abe Jaldi kar 🏃, Panvel Nikalna hai...😂\n"
     ]
    },
    {
     "data": {
      "text/html": [
       "<span style='font-size: 50px;'>🏃</span>"
      ],
      "text/plain": [
       "<IPython.core.display.HTML object>"
      ]
     },
     "metadata": {},
     "output_type": "display_data"
    },
    {
     "name": "stdout",
     "output_type": "stream",
     "text": [
      "\n",
      "Bohot Kam hai bhai 🤦\n",
      "\n"
     ]
    },
    {
     "name": "stdin",
     "output_type": "stream",
     "text": [
      "Bhai Jan, mere dimaag ki batti jal gayi! Tuhmi Kuch Socho 🤔:  70\n"
     ]
    },
    {
     "name": "stdout",
     "output_type": "stream",
     "text": [
      "Abe Jaldi kar 🏃, Panvel Nikalna hai...😂\n"
     ]
    },
    {
     "data": {
      "text/html": [
       "<span style='font-size: 50px;'>🏃</span>"
      ],
      "text/plain": [
       "<IPython.core.display.HTML object>"
      ]
     },
     "metadata": {},
     "output_type": "display_data"
    },
    {
     "name": "stdout",
     "output_type": "stream",
     "text": [
      "\n",
      "Bohot Kam hai bhai 🤦\n",
      "\n"
     ]
    },
    {
     "name": "stdin",
     "output_type": "stream",
     "text": [
      "Bhai Jan, mere dimaag ki batti jal gayi! Tuhmi Kuch Socho 🤔:  90\n"
     ]
    },
    {
     "name": "stdout",
     "output_type": "stream",
     "text": [
      "\n",
      "Bohot Jada hai bhai 🤦\n",
      "\n"
     ]
    },
    {
     "name": "stdin",
     "output_type": "stream",
     "text": [
      "Bhai Jan, mere dimaag ki batti jal gayi! Tuhmi Kuch Socho 🤔:  80\n"
     ]
    },
    {
     "name": "stdout",
     "output_type": "stream",
     "text": [
      "\n",
      "Bohot Kam hai bhai 🤦\n",
      "\n"
     ]
    },
    {
     "name": "stdin",
     "output_type": "stream",
     "text": [
      "Bhai Jan, mere dimaag ki batti jal gayi! Tuhmi Kuch Socho 🤔:  85\n"
     ]
    },
    {
     "name": "stdout",
     "output_type": "stream",
     "text": [
      "\n",
      "Bohot Kam hai bhai 🤦\n",
      "\n"
     ]
    },
    {
     "name": "stdin",
     "output_type": "stream",
     "text": [
      "Bhai Jan, mere dimaag ki batti jal gayi! Tuhmi Kuch Socho 🤔:  88\n"
     ]
    },
    {
     "name": "stdout",
     "output_type": "stream",
     "text": [
      "\n",
      "Bohot der kar di bhai jan 🤦 Etani der me to panvel pohoch jate 😅\n",
      "Attempts :6\n"
     ]
    },
    {
     "data": {
      "text/html": [
       "<span style='font-size: 100px;'>🏆</span>"
      ],
      "text/plain": [
       "<IPython.core.display.HTML object>"
      ]
     },
     "metadata": {},
     "output_type": "display_data"
    }
   ],
   "source": [
    "# Game Name: Chal Bhai Khelte Hai\n",
    "\n",
    "# Important Library\n",
    "import random       # Generate Random number\n",
    "import time         # To measure the time taken for user input\n",
    "from IPython.display import display, HTML\n",
    "import pyfiglet\n",
    "from colorama import Fore, init\n",
    "\n",
    "\n",
    "# Logic Function\n",
    "def check_logic():\n",
    "    init(autoreset=True)\n",
    "    secret_number = random.randint(1, 100)\n",
    "    guesses = 0\n",
    "\n",
    "    # Storing emojis in list\n",
    "    emojis = [\"\\U0001F3C3\", \"\\U0001F973\",\"\\U0001F3C6\", \"\\U0001F60E\",\"\\U0001F926\"]\n",
    "\n",
    "    # Role of Guessing number\n",
    "    # Welcome greeting for the game \"Chal Bhai Khelte Hai\"\n",
    "    game_name = pyfiglet.figlet_format(\"Chal Bhai Khelte Hai\",font=\"small_slant\")\n",
    "    print(Fore.BLACK + game_name)\n",
    "    print(\"😎 Get ready for some exciting fun and challenges! 😎\")\n",
    "    print(\"🤔 Put on your thinking caps, and let's dive into the game! 🚀\")\n",
    "    print(\"🎮 Best of luck, Bhai! May the fun begin! 🎉\")\n",
    "\n",
    "    print(\"  \\u2728 Guess between 1 to 100 \\u2728  \")\n",
    "    print('----------------------------------')\n",
    "\n",
    "    # While Loop to continue running code until win\n",
    "    while True:\n",
    "        # Record the start time for the first input\n",
    "        start_time = time.time()\n",
    "\n",
    "        guess = int(input(\"Bhai Jan, mere dimaag ki batti jal gayi! Tuhmi Kuch Socho \\U0001F914: \"))\n",
    "        # Measure the time taken for this input\n",
    "        time_taken = time.time() - start_time\n",
    "        \n",
    "        # Check if the user took more than 2 seconds to input the guess\n",
    "        if time_taken > 5:\n",
    "            print(\"Abe Jaldi kar \\U0001F3C3, Panvel Nikalna hai...\\U0001F602\")  # Print if the input time is more than 5 seconds\n",
    "            display(HTML(f\"<span style='font-size: 50px;'>{emojis[0]}</span>\"))\n",
    "        \n",
    "        print('')\n",
    "        guesses += 1\n",
    "        if guess < 1 or guess > 100:\n",
    "            print(\"Baskar 7V fail \\U0001F926 \\u261D\\uFE0F likha hai 1 se 100 bich kahi batan dabana hai\")\n",
    "            display(HTML(f\"<span style='font-size: 100px;'>{emojis[4]}</span>\"))\n",
    "            print(\"Chalo fir se dabao\")\n",
    "    \n",
    "        elif guess < secret_number:\n",
    "            print(\"Bohot Kam hai bhai \\U0001F926\")\n",
    "            print('')\n",
    "           \n",
    "        elif guess > secret_number:\n",
    "            print(\"Bohot Jada hai bhai \\U0001F926\")\n",
    "            print('')\n",
    "           \n",
    "        else:\n",
    "            if guesses == 1:\n",
    "                print(\"Legend \\U0001F480 \\U0001F92F \\U0001F631\")\n",
    "                print(f\"Attempts :{guesses}\")\n",
    "                display(HTML(f\"<span style='font-size: 100px;'>{emojis[3]}</span>\"))\n",
    "            elif guesses <= 4:\n",
    "                print(f\"Wahh kya soch hai re teri \\U0001F44F manna padega \\u2620, Ye le tere liye \\U0001F3C6\")\n",
    "                print(f\"Attempts :{guesses}\") \n",
    "                display(HTML(f\"<span style='font-size: 100px;'>{emojis[2]}</span>\"))\n",
    "            elif guesses > 4 and guesses < 6:                                                   \n",
    "                print(f\"Nahi bhai jan aur Badam khaneki Jarurat hai \\U0001F602\")\n",
    "                print(f\"Attempts :{guesses}\")\n",
    "                display(HTML(f\"<span style='font-size: 100px;'>{emojis[2]}</span>\"))\n",
    "            else:\n",
    "                print(f\"Bohot der kar di bhai jan \\U0001F926 Etani der me to panvel pohoch jate \\U0001F605\")\n",
    "                print(f\"Attempts :{guesses}\")\n",
    "                display(HTML(f\"<span style='font-size: 100px;'>{emojis[2]}</span>\"))\n",
    "            break\n",
    "        \n",
    "check_logic()\n"
   ]
  },
  {
   "cell_type": "code",
   "execution_count": null,
   "id": "e8b09c02-4f87-413b-bc10-5c595ff832c0",
   "metadata": {},
   "outputs": [],
   "source": []
  }
 ],
 "metadata": {
  "kernelspec": {
   "display_name": "Python 3 (ipykernel)",
   "language": "python",
   "name": "python3"
  },
  "language_info": {
   "codemirror_mode": {
    "name": "ipython",
    "version": 3
   },
   "file_extension": ".py",
   "mimetype": "text/x-python",
   "name": "python",
   "nbconvert_exporter": "python",
   "pygments_lexer": "ipython3",
   "version": "3.12.4"
  }
 },
 "nbformat": 4,
 "nbformat_minor": 5
}
